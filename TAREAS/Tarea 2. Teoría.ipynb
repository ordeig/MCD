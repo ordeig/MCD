{
 "cells": [
  {
   "attachments": {},
   "cell_type": "markdown",
   "metadata": {},
   "source": [
    "### Parte 1: Teoría de Álgebra Lineal y Optimización \n",
    "\n",
    "##### 1. ¿Por qué una matriz equivale a una transformación lineal entre espacios vectoriales? \n",
    "Una matriz es un arreglo rectangular de elementos. Asimismo, una matriz de dimensiones nx1 puede verse como un vector en Rn.  \n",
    "Finalmente, todo vector es combinación lineal de los vectores canónicos.  \n",
    "Una combinación lineal implica que es cerrado bajo la adición, la multiplicación y contiene el cero.  \n",
    "\n",
    "##### 2. ¿Cuál es el efecto de transformación lineal de una matriz diagonal y el de una matriz ortogonal?\n",
    "La transpuesta de una matriz diagonal es la misma matriz, \n",
    "\n",
    "El efecto de transformar una matriz ortogonal (ortonormal) es que preserva la norma de los vectores.  \n",
    "•\tPreservan volúmenes  el volumen lineal (todos los vectores canónigos preservan su longitud).  \n",
    "•\tPreservan la norma de los vectores.  \n",
    "•\tLas matrices ortogonales son sus propias inversas e inversas.  \n",
    "•\tTodas las matrices ortogonales están hechas de reflexiones y rotaciones.    \n",
    "\n",
    "##### 3. ¿Qué es la descomposición en valores singulares de una matriz?\n",
    "La definición establece que dada una matriz A que pertenece Rnxm, existe una descomposición de la forma A = U∑VT, en donde U matriz ortogonal de m x n, V matriz ortogonal de n x n, y ∑ una matriz de m x n “casi” diagonal.  \n",
    "Es decir, toda matriz puede descomponerse en tres matrices básicas.  Esto es, toda transformación lineal es una rotación, redimensionamiento de los ejes canónicos y una rotación final.\n",
    "\n",
    "##### 4. ¿Qué es diagonalizar una matriz y que representan los eigenvectores? \n",
    "\n",
    "Diagonalizar es encontrar la base de eigenvectores.  \n",
    "Si Rn tiene una base de eigenvectores, cualquier vector (matriz) se puede escribir como una constante o eigenvalores por la base de eigenvectores. Los eigenvectores representan la dirección en la que se aplica la transforamción y los eigenvalores son el factor de ajuste que alargan o acortan el eigenvector.  En caso de que sea negativo invierte la dirección.\n",
    "\n",
    "##### 5. ¿Intuitivamente qué son los eigenvectores?\n",
    "Es la solución a un problema de optimización.\n",
    "\n",
    "##### 6. ¿Cómo interpretas la descomposición en valores singulares como una composición de tres tipos de transformaciones lineales simples? \n",
    "\n",
    "Es una forma de describir a una matriz como un resultado de una rotación, redimensionamiento de los ejes canónicos y otra rotación final.\n",
    "\n",
    "\n",
    "##### 7. ¿Qué relación hay entre la descomposición en valores singulares y la diagonalización? \n",
    "\n",
    "La SVD descompone una matriz en tres partes, una matriz de valores singulares y dos matrices integradas por vectores singulares. Por su parte, la diagonalización también es es una descomposición formada por los eigenvalores y eigenvectores.\n",
    "\n",
    "##### 8. ¿Cómo se usa la descomposición en valores singulares para dar una aproximación de rango menor a una matriz? \n",
    "\n",
    "En la descomposición SVD donde A = U∑VT la aproximación de rango menor se realiza al encontrar una ∑(gorro) que únicamente contenga los valores singulares más grandes.  \n",
    "Es decir, se busca que estos valores sean suficientes para explicar el mayor efecto en la variación.  \n",
    "\n",
    "##### 9. Describe el método de minimización por descenso gradiente \n",
    "\n",
    "Es un método de optimización para encontrar una aproximación a un mínimo local a través del negativo del gradiente.  En una función multivariada el negativo del gradiente indica la dirección de máximo descenso. Al realizar este proceso iterativamente llegamos a un mínimo local.  \n",
    "\n",
    "##### 10. Menciona 4 ejemplos de problemas de optimización (dos con restricciones y dos sin restricciones) que te parezcan interesantes como Científico de Datos \n",
    "\n",
    "a) \n"
   ]
  }
 ],
 "metadata": {
  "kernelspec": {
   "display_name": "Python 3",
   "language": "python",
   "name": "python3"
  },
  "language_info": {
   "codemirror_mode": {
    "name": "ipython",
    "version": 3
   },
   "file_extension": ".py",
   "mimetype": "text/x-python",
   "name": "python",
   "nbconvert_exporter": "python",
   "pygments_lexer": "ipython3",
   "version": "3.6.1"
  }
 },
 "nbformat": 4,
 "nbformat_minor": 2
}
